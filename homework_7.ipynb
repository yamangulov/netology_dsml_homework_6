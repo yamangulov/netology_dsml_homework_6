{
 "cells": [
  {
   "cell_type": "code",
   "execution_count": 65,
   "metadata": {
    "collapsed": true,
    "pycharm": {
     "name": "#%%\n"
    }
   },
   "outputs": [],
   "source": [
    "from sklearn import datasets\n",
    "from sklearn.linear_model import LinearRegression\n",
    "from sklearn.model_selection import train_test_split\n",
    "import numpy as np\n",
    "from sklearn.metrics import mean_squared_error, r2_score\n",
    "import matplotlib.pyplot as plt\n",
    "%matplotlib inline\n",
    "import seaborn as sns"
   ]
  },
  {
   "cell_type": "markdown",
   "source": [
    "1. Получите данные и загрузите их в рабочую среду. (Jupyter Notebook или другую).\n",
    "2. Проверьте данные на наличие пропусков. Удалите их в случае обнаружения."
   ],
   "metadata": {
    "collapsed": false,
    "pycharm": {
     "name": "#%% md\n"
    }
   }
  },
  {
   "cell_type": "code",
   "execution_count": 66,
   "outputs": [
    {
     "name": "stdout",
     "output_type": "stream",
     "text": [
      "<class 'pandas.core.frame.DataFrame'>\n"
     ]
    }
   ],
   "source": [
    "data = datasets.fetch_california_housing(as_frame=True).frame\n",
    "print(type(data))"
   ],
   "metadata": {
    "collapsed": false,
    "pycharm": {
     "name": "#%%\n"
    }
   }
  },
  {
   "cell_type": "code",
   "execution_count": 67,
   "outputs": [
    {
     "name": "stdout",
     "output_type": "stream",
     "text": [
      "   MedInc  HouseAge  AveRooms  AveBedrms  Population  AveOccup  Latitude  \\\n",
      "0  8.3252      41.0  6.984127   1.023810       322.0  2.555556     37.88   \n",
      "1  8.3014      21.0  6.238137   0.971880      2401.0  2.109842     37.86   \n",
      "2  7.2574      52.0  8.288136   1.073446       496.0  2.802260     37.85   \n",
      "3  5.6431      52.0  5.817352   1.073059       558.0  2.547945     37.85   \n",
      "4  3.8462      52.0  6.281853   1.081081       565.0  2.181467     37.85   \n",
      "\n",
      "   Longitude  MedHouseVal  \n",
      "0    -122.23        4.526  \n",
      "1    -122.22        3.585  \n",
      "2    -122.24        3.521  \n",
      "3    -122.25        3.413  \n",
      "4    -122.25        3.422  \n"
     ]
    }
   ],
   "source": [
    "print(data.head(5))"
   ],
   "metadata": {
    "collapsed": false,
    "pycharm": {
     "name": "#%%\n"
    }
   }
  },
  {
   "cell_type": "code",
   "execution_count": 68,
   "outputs": [
    {
     "data": {
      "text/plain": "(20640, 9)"
     },
     "execution_count": 68,
     "metadata": {},
     "output_type": "execute_result"
    }
   ],
   "source": [
    "data.shape"
   ],
   "metadata": {
    "collapsed": false,
    "pycharm": {
     "name": "#%%\n"
    }
   }
  },
  {
   "cell_type": "code",
   "execution_count": 69,
   "outputs": [
    {
     "name": "stdout",
     "output_type": "stream",
     "text": [
      "<class 'pandas.core.frame.DataFrame'>\n",
      "RangeIndex: 20640 entries, 0 to 20639\n",
      "Data columns (total 9 columns):\n",
      " #   Column       Non-Null Count  Dtype  \n",
      "---  ------       --------------  -----  \n",
      " 0   MedInc       20640 non-null  float64\n",
      " 1   HouseAge     20640 non-null  float64\n",
      " 2   AveRooms     20640 non-null  float64\n",
      " 3   AveBedrms    20640 non-null  float64\n",
      " 4   Population   20640 non-null  float64\n",
      " 5   AveOccup     20640 non-null  float64\n",
      " 6   Latitude     20640 non-null  float64\n",
      " 7   Longitude    20640 non-null  float64\n",
      " 8   MedHouseVal  20640 non-null  float64\n",
      "dtypes: float64(9)\n",
      "memory usage: 1.4 MB\n"
     ]
    }
   ],
   "source": [
    "data.info()"
   ],
   "metadata": {
    "collapsed": false,
    "pycharm": {
     "name": "#%%\n"
    }
   }
  },
  {
   "cell_type": "markdown",
   "source": [
    "Таким образом, дата фрейм не имеет пропусков"
   ],
   "metadata": {
    "collapsed": false,
    "pycharm": {
     "name": "#%% md\n"
    }
   }
  },
  {
   "cell_type": "markdown",
   "source": [
    "3. Разделите выборку на обучающее и тестовое подмножества. 80% данных оставить на обучающее множество, 20% - на тестовое.\n",
    "4. Постройте модель линейной регрессии. Вычислите метрики RMSE, R2 на обучающем и тестовом множестве.\n",
    "5. Постройте график распределения целевой переменной. Сделайте вывод. Присутствуют ли в этом признаке выбросы?"
   ],
   "metadata": {
    "collapsed": false,
    "pycharm": {
     "name": "#%% md\n"
    }
   }
  },
  {
   "cell_type": "code",
   "execution_count": 70,
   "outputs": [],
   "source": [
    "def getMetrics(X, y, random_seed=42, model=None, test_size=0.2):\n",
    "    if model is None:\n",
    "        model = LinearRegression()\n",
    "    X_train, X_test, y_train, y_test = train_test_split(X, y, test_size=test_size, random_state=random_seed)\n",
    "    model.fit(X_train, y_train)\n",
    "    y_pred_train = model.predict(X_train)\n",
    "    y_pred_test = model.predict(X_test)\n",
    "    rmse_train = np.sqrt(mean_squared_error(y_train, y_pred_train))\n",
    "    r2_train = r2_score(y_train, y_pred_train)\n",
    "    rmse_test = np.sqrt(mean_squared_error(y_test, y_pred_test))\n",
    "    r2_test = r2_score(y_test, y_pred_test)\n",
    "\n",
    "    print(rmse_train, r2_train, rmse_test, r2_test)\n",
    "\n",
    "def get_boxplot(X, columns=[]):\n",
    "    for i in columns:\n",
    "        sns.boxplot(x=X[i])\n",
    "    pass"
   ],
   "metadata": {
    "collapsed": false,
    "pycharm": {
     "name": "#%%\n"
    }
   }
  },
  {
   "cell_type": "code",
   "execution_count": 71,
   "outputs": [
    {
     "name": "stdout",
     "output_type": "stream",
     "text": [
      "0.7196757085831575 0.6125511913966952 0.7455813830127763 0.575787706032451\n"
     ]
    }
   ],
   "source": [
    "X = data.loc[:, data.columns != \"MedHouseVal\"]\n",
    "y = data[[\"MedHouseVal\"]]\n",
    "getMetrics(X, y)\n"
   ],
   "metadata": {
    "collapsed": false,
    "pycharm": {
     "name": "#%%\n"
    }
   }
  },
  {
   "cell_type": "code",
   "execution_count": 73,
   "outputs": [
    {
     "data": {
      "text/plain": "<Figure size 432x288 with 1 Axes>",
      "image/png": "[encoded data removed]"
     },
     "metadata": {
      "needs_background": "light"
     },
     "output_type": "display_data"
    }
   ],
   "source": [
    "get_boxplot(data, [\"MedHouseVal\"])"
   ],
   "metadata": {
    "collapsed": false,
    "pycharm": {
     "name": "#%%\n"
    }
   }
  },
  {
   "cell_type": "code",
   "execution_count": 79,
   "outputs": [
    {
     "data": {
      "text/plain": "        MedInc  HouseAge  AveRooms  AveBedrms  Population  AveOccup  Latitude  \\\n89      1.2434      52.0  2.929412   0.917647       396.0  4.658824     37.80   \n140     6.3624      30.0  5.615385   0.730769       126.0  2.423077     37.81   \n459     1.1696      52.0  2.436000   0.944000      1349.0  5.396000     37.87   \n489     3.0417      48.0  4.690632   1.126362      1656.0  3.607843     37.86   \n493     7.8521      52.0  7.794393   1.051402       517.0  2.415888     37.86   \n...        ...       ...       ...        ...         ...       ...       ...   \n20422   5.1457      35.0  6.958333   1.217593       576.0  2.666667     34.14   \n20426  10.0472      11.0  9.890756   1.159664       415.0  3.487395     34.18   \n20427   8.6499       4.0  7.236059   1.032528      5495.0  2.553439     34.19   \n20436  12.5420      10.0  9.873315   1.102426      1179.0  3.177898     34.21   \n20443   3.3438      50.0  5.342857   0.942857       130.0  3.714286     34.27   \n\n       Longitude  MedHouseVal  \n89       -122.27      5.00001  \n140      -122.18      4.83300  \n459      -122.25      5.00001  \n489      -122.25      4.89600  \n493      -122.24      5.00001  \n...          ...          ...  \n20422    -118.90      5.00001  \n20426    -118.69      5.00001  \n20427    -118.80      5.00001  \n20436    -118.69      5.00001  \n20443    -118.85      5.00001  \n\n[1079 rows x 9 columns]",
      "text/html": "<div>\n<style scoped>\n    .dataframe tbody tr th:only-of-type {\n        vertical-align: middle;\n    }\n\n    .dataframe tbody tr th {\n        vertical-align: top;\n    }\n\n    .dataframe thead th {\n        text-align: right;\n    }\n</style>\n<table border=\"1\" class=\"dataframe\">\n  <thead>\n    <tr style=\"text-align: right;\">\n      <th></th>\n      <th>MedInc</th>\n      <th>HouseAge</th>\n      <th>AveRooms</th>\n      <th>AveBedrms</th>\n      <th>Population</th>\n      <th>AveOccup</th>\n      <th>Latitude</th>\n      <th>Longitude</th>\n      <th>MedHouseVal</th>\n    </tr>\n  </thead>\n  <tbody>\n    <tr>\n      <th>89</th>\n      <td>1.2434</td>\n      <td>52.0</td>\n      <td>2.929412</td>\n      <td>0.917647</td>\n      <td>396.0</td>\n      <td>4.658824</td>\n      <td>37.80</td>\n      <td>-122.27</td>\n      <td>5.00001</td>\n    </tr>\n    <tr>\n      <th>140</th>\n      <td>6.3624</td>\n      <td>30.0</td>\n      <td>5.615385</td>\n      <td>0.730769</td>\n      <td>126.0</td>\n      <td>2.423077</td>\n      <td>37.81</td>\n      <td>-122.18</td>\n      <td>4.83300</td>\n    </tr>\n    <tr>\n      <th>459</th>\n      <td>1.1696</td>\n      <td>52.0</td>\n      <td>2.436000</td>\n      <td>0.944000</td>\n      <td>1349.0</td>\n      <td>5.396000</td>\n      <td>37.87</td>\n      <td>-122.25</td>\n      <td>5.00001</td>\n    </tr>\n    <tr>\n      <th>489</th>\n      <td>3.0417</td>\n      <td>48.0</td>\n      <td>4.690632</td>\n      <td>1.126362</td>\n      <td>1656.0</td>\n      <td>3.607843</td>\n      <td>37.86</td>\n      <td>-122.25</td>\n      <td>4.89600</td>\n    </tr>\n    <tr>\n      <th>493</th>\n      <td>7.8521</td>\n      <td>52.0</td>\n      <td>7.794393</td>\n      <td>1.051402</td>\n      <td>517.0</td>\n      <td>2.415888</td>\n      <td>37.86</td>\n      <td>-122.24</td>\n      <td>5.00001</td>\n    </tr>\n    <tr>\n      <th>...</th>\n      <td>...</td>\n      <td>...</td>\n      <td>...</td>\n      <td>...</td>\n      <td>...</td>\n      <td>...</td>\n      <td>...</td>\n      <td>...</td>\n      <td>...</td>\n    </tr>\n    <tr>\n      <th>20422</th>\n      <td>5.1457</td>\n      <td>35.0</td>\n      <td>6.958333</td>\n      <td>1.217593</td>\n      <td>576.0</td>\n      <td>2.666667</td>\n      <td>34.14</td>\n      <td>-118.90</td>\n      <td>5.00001</td>\n    </tr>\n    <tr>\n      <th>20426</th>\n      <td>10.0472</td>\n      <td>11.0</td>\n      <td>9.890756</td>\n      <td>1.159664</td>\n      <td>415.0</td>\n      <td>3.487395</td>\n      <td>34.18</td>\n      <td>-118.69</td>\n      <td>5.00001</td>\n    </tr>\n    <tr>\n      <th>20427</th>\n      <td>8.6499</td>\n      <td>4.0</td>\n      <td>7.236059</td>\n      <td>1.032528</td>\n      <td>5495.0</td>\n      <td>2.553439</td>\n      <td>34.19</td>\n      <td>-118.80</td>\n      <td>5.00001</td>\n    </tr>\n    <tr>\n      <th>20436</th>\n      <td>12.5420</td>\n      <td>10.0</td>\n      <td>9.873315</td>\n      <td>1.102426</td>\n      <td>1179.0</td>\n      <td>3.177898</td>\n      <td>34.21</td>\n      <td>-118.69</td>\n      <td>5.00001</td>\n    </tr>\n    <tr>\n      <th>20443</th>\n      <td>3.3438</td>\n      <td>50.0</td>\n      <td>5.342857</td>\n      <td>0.942857</td>\n      <td>130.0</td>\n      <td>3.714286</td>\n      <td>34.27</td>\n      <td>-118.85</td>\n      <td>5.00001</td>\n    </tr>\n  </tbody>\n</table>\n<p>1079 rows × 9 columns</p>\n</div>"
     },
     "execution_count": 79,
     "metadata": {},
     "output_type": "execute_result"
    }
   ],
   "source": [
    "data[data[\"MedHouseVal\"]>4.8]"
   ],
   "metadata": {
    "collapsed": false,
    "pycharm": {
     "name": "#%%\n"
    }
   }
  },
  {
   "cell_type": "markdown",
   "source": [
    "То есть мы видим, что из 20640 строк 1079 строк - это выбросы"
   ],
   "metadata": {
    "collapsed": false,
    "pycharm": {
     "name": "#%% md\n"
    }
   }
  },
  {
   "cell_type": "markdown",
   "source": [
    "6. Посчитайте и выведите корреляционную матрицу. Убедитесь, что ячейки матрицы поделены на цветные категории, в ячейках указано числовое значение корреляции.\n",
    "7. Сделайте выводы.\n",
    "8. Удалите признаки на основании полученных значений, выводов.\n",
    "Повторите п. 3, п. 4 на измененных данных."
   ],
   "metadata": {
    "collapsed": false,
    "pycharm": {
     "name": "#%% md\n"
    }
   }
  },
  {
   "cell_type": "code",
   "execution_count": 87,
   "outputs": [
    {
     "data": {
      "text/plain": "<AxesSubplot:>"
     },
     "execution_count": 87,
     "metadata": {},
     "output_type": "execute_result"
    },
    {
     "data": {
      "text/plain": "<Figure size 1008x1008 with 2 Axes>",
      "image/png": "[encoded data removed]"
     },
     "metadata": {
      "needs_background": "light"
     },
     "output_type": "display_data"
    }
   ],
   "source": [
    "corr_matrix = data.corr()\n",
    "fig, ax = plt.subplots(figsize=(14,14))\n",
    "sns.heatmap(corr_matrix, annot = True, vmin=-1, vmax=1, center=0, cmap= 'coolwarm', linewidths=3,linecolor='black', ax=ax)"
   ],
   "metadata": {
    "collapsed": false,
    "pycharm": {
     "name": "#%%\n"
    }
   }
  },
  {
   "cell_type": "markdown",
   "source": [
    "Мы видим довольно сильную корреляцию 0.85 между признаками AveRooms и AveBedrms. Мы можем попробовать удалить один из этих признаков, например, второй."
   ],
   "metadata": {
    "collapsed": false,
    "pycharm": {
     "name": "#%% md\n"
    }
   }
  },
  {
   "cell_type": "code",
   "execution_count": 94,
   "outputs": [
    {
     "name": "stdout",
     "output_type": "stream",
     "text": [
      "0.7316746485880744 0.5995238502055928 0.7398151789804083 0.5823239094526445\n"
     ]
    }
   ],
   "source": [
    "X2 = data.loc[:, (data.columns != \"MedHouseVal\")&(data.columns != \"AveBedrms\")]\n",
    "y2 = data[[\"MedHouseVal\"]]\n",
    "getMetrics(X2, y2)"
   ],
   "metadata": {
    "collapsed": false,
    "pycharm": {
     "name": "#%%\n"
    }
   }
  },
  {
   "cell_type": "markdown",
   "source": [
    "Вывод - можно видеть, что удаление из датафрейма сильно коррелированных признаков заметно не ухудшает метрики качества RMSE и R2, можно это делать без опасений за качество модели"
   ],
   "metadata": {
    "collapsed": false,
    "pycharm": {
     "name": "#%% md\n"
    }
   }
  },
  {
   "cell_type": "markdown",
   "source": [
    "9. Исследуйте оставленные признаки на выбросы.\n",
    "Удалите выбросы в случае обнаружения.\n",
    "Повторите п. 3, п. 4 на измененных данных."
   ],
   "metadata": {
    "collapsed": false,
    "pycharm": {
     "name": "#%% md\n"
    }
   }
  },
  {
   "cell_type": "code",
   "execution_count": 98,
   "outputs": [
    {
     "data": {
      "text/plain": "<Figure size 432x288 with 1 Axes>",
      "image/png": "[encoded data removed]"
     },
     "metadata": {
      "needs_background": "light"
     },
     "output_type": "display_data"
    }
   ],
   "source": [
    "new_data = data.loc[:, data.columns != \"AveBedrms\"]\n",
    "get_boxplot(new_data, [\"MedHouseVal\"])"
   ],
   "metadata": {
    "collapsed": false,
    "pycharm": {
     "name": "#%%\n"
    }
   }
  },
  {
   "cell_type": "markdown",
   "source": [
    "Ничего особенно не изменилось, все равно есть выбросы с MedHouseVal>4.8 (приблизительно)"
   ],
   "metadata": {
    "collapsed": false,
    "pycharm": {
     "name": "#%% md\n"
    }
   }
  },
  {
   "cell_type": "code",
   "execution_count": 112,
   "outputs": [
    {
     "name": "stdout",
     "output_type": "stream",
     "text": [
      "0.6287729767152344 0.5613063197672399 0.6453735362820614 0.5539677335460961\n"
     ]
    }
   ],
   "source": [
    "new_data = new_data[new_data.MedHouseVal < 4.8]\n",
    "X3 = new_data.loc[:, (new_data.columns != \"MedHouseVal\")&(new_data.columns != \"AveBedrms\")]\n",
    "y3 = new_data[[\"MedHouseVal\"]]\n",
    "getMetrics(X3, y3)"
   ],
   "metadata": {
    "collapsed": false,
    "pycharm": {
     "name": "#%%\n"
    }
   }
  },
  {
   "cell_type": "markdown",
   "source": [
    "В этом случае мы видим, что качество модели заметно ухудшилось, следовательно, можно сделать вывод, что удаленные значения на самом деле не были подлинными выбросами, а вписывались в модель, как какие-то крайние случаи."
   ],
   "metadata": {
    "collapsed": false,
    "pycharm": {
     "name": "#%% md\n"
    }
   }
  },
  {
   "cell_type": "markdown",
   "source": [
    "10. Измените несколько признаков на выбор математически. Например, вычислите логарифм, возведите в квадрат, извлеките квадратный корень.\n",
    "Повторите п. 3, п. 4 на измененных данных."
   ],
   "metadata": {
    "collapsed": false,
    "pycharm": {
     "name": "#%% md\n"
    }
   }
  },
  {
   "cell_type": "code",
   "execution_count": 113,
   "outputs": [],
   "source": [
    "data['Population'] = np.log(data['Population'])\n",
    "data['AveOccup'] = np.sqrt(data['AveOccup'])\n",
    "data['HouseAge'] = np.power(data['HouseAge'], 2)"
   ],
   "metadata": {
    "collapsed": false,
    "pycharm": {
     "name": "#%%\n"
    }
   }
  },
  {
   "cell_type": "code",
   "execution_count": 114,
   "outputs": [
    {
     "data": {
      "text/plain": "   MedInc  HouseAge  AveRooms  AveBedrms  Population  AveOccup  Latitude  \\\n0  8.3252    1681.0  6.984127   1.023810    5.774552  1.598611     37.88   \n1  8.3014     441.0  6.238137   0.971880    7.783641  1.452529     37.86   \n2  7.2574    2704.0  8.288136   1.073446    6.206576  1.673995     37.85   \n3  5.6431    2704.0  5.817352   1.073059    6.324359  1.596228     37.85   \n4  3.8462    2704.0  6.281853   1.081081    6.336826  1.476979     37.85   \n\n   Longitude  MedHouseVal  \n0    -122.23        4.526  \n1    -122.22        3.585  \n2    -122.24        3.521  \n3    -122.25        3.413  \n4    -122.25        3.422  ",
      "text/html": "<div>\n<style scoped>\n    .dataframe tbody tr th:only-of-type {\n        vertical-align: middle;\n    }\n\n    .dataframe tbody tr th {\n        vertical-align: top;\n    }\n\n    .dataframe thead th {\n        text-align: right;\n    }\n</style>\n<table border=\"1\" class=\"dataframe\">\n  <thead>\n    <tr style=\"text-align: right;\">\n      <th></th>\n      <th>MedInc</th>\n      <th>HouseAge</th>\n      <th>AveRooms</th>\n      <th>AveBedrms</th>\n      <th>Population</th>\n      <th>AveOccup</th>\n      <th>Latitude</th>\n      <th>Longitude</th>\n      <th>MedHouseVal</th>\n    </tr>\n  </thead>\n  <tbody>\n    <tr>\n      <th>0</th>\n      <td>8.3252</td>\n      <td>1681.0</td>\n      <td>6.984127</td>\n      <td>1.023810</td>\n      <td>5.774552</td>\n      <td>1.598611</td>\n      <td>37.88</td>\n      <td>-122.23</td>\n      <td>4.526</td>\n    </tr>\n    <tr>\n      <th>1</th>\n      <td>8.3014</td>\n      <td>441.0</td>\n      <td>6.238137</td>\n      <td>0.971880</td>\n      <td>7.783641</td>\n      <td>1.452529</td>\n      <td>37.86</td>\n      <td>-122.22</td>\n      <td>3.585</td>\n    </tr>\n    <tr>\n      <th>2</th>\n      <td>7.2574</td>\n      <td>2704.0</td>\n      <td>8.288136</td>\n      <td>1.073446</td>\n      <td>6.206576</td>\n      <td>1.673995</td>\n      <td>37.85</td>\n      <td>-122.24</td>\n      <td>3.521</td>\n    </tr>\n    <tr>\n      <th>3</th>\n      <td>5.6431</td>\n      <td>2704.0</td>\n      <td>5.817352</td>\n      <td>1.073059</td>\n      <td>6.324359</td>\n      <td>1.596228</td>\n      <td>37.85</td>\n      <td>-122.25</td>\n      <td>3.413</td>\n    </tr>\n    <tr>\n      <th>4</th>\n      <td>3.8462</td>\n      <td>2704.0</td>\n      <td>6.281853</td>\n      <td>1.081081</td>\n      <td>6.336826</td>\n      <td>1.476979</td>\n      <td>37.85</td>\n      <td>-122.25</td>\n      <td>3.422</td>\n    </tr>\n  </tbody>\n</table>\n</div>"
     },
     "execution_count": 114,
     "metadata": {},
     "output_type": "execute_result"
    }
   ],
   "source": [
    "data.head()"
   ],
   "metadata": {
    "collapsed": false,
    "pycharm": {
     "name": "#%%\n"
    }
   }
  },
  {
   "cell_type": "code",
   "execution_count": 115,
   "outputs": [
    {
     "name": "stdout",
     "output_type": "stream",
     "text": [
      "0.7053299480109281 0.6278437730555526 0.7244889122810789 0.5994501008968756\n"
     ]
    }
   ],
   "source": [
    "X4 = data.loc[:, data.columns != \"MedHouseVal\"]\n",
    "y4 = data[[\"MedHouseVal\"]]\n",
    "getMetrics(X4, y4)"
   ],
   "metadata": {
    "collapsed": false,
    "pycharm": {
     "name": "#%%\n"
    }
   }
  },
  {
   "cell_type": "markdown",
   "source": [
    "11. Сформулируйте выводы по проделанной работе.\n",
    "Кратко опишите какие преобразования были сделаны с данными.\n",
    "Сравните метрики всех моделей. Желательно оформление в виде таблицы вида |модель|RMSE|R2|признаки, на которых проводилось обучение с указанием их преобразований|.\n",
    "Напишите свое мнение, в полной ли мере модели справились с поставленной задачей."
   ],
   "metadata": {
    "collapsed": false,
    "pycharm": {
     "name": "#%% md\n"
    }
   }
  },
  {
   "cell_type": "markdown",
   "source": [
    "Общий вывод - преобразование данных может как ухудшить, так и улучшить качество модели, необходимо пробовать и варьировать преобразования, чтобы добиться лучшего результата. В работе производилось удаление сильно коррелированных признаков на основе корреляционных матриц, удаление выбросов (предполагаемых), математическое преобразование данных. В принципе, модели работают, но как я уже сказал, нужно подбирать параметры моделей для лучшего результата"
   ],
   "metadata": {
    "collapsed": false,
    "pycharm": {
     "name": "#%% md\n"
    }
   }
  }
 ],
 "metadata": {
  "kernelspec": {
   "display_name": "Python 3",
   "language": "python",
   "name": "python3"
  },
  "language_info": {
   "codemirror_mode": {
    "name": "ipython",
    "version": 2
   },
   "file_extension": ".py",
   "mimetype": "text/x-python",
   "name": "python",
   "nbconvert_exporter": "python",
   "pygments_lexer": "ipython2",
   "version": "2.7.6"
  }
 },
 "nbformat": 4,
 "nbformat_minor": 0
}